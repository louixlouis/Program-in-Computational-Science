{
 "cells": [
  {
   "cell_type": "markdown",
   "id": "d1ae7afa-8fa6-48d5-a165-f7e8d1e9ea58",
   "metadata": {},
   "source": [
    "**Problem 1.**\n",
    "===\n",
    "&nbsp;&nbsp;&nbsp;&nbsp;This question involves simulation of the play ans scoring of a single-player video game. In the game, a player attempts to complete three levels. A level in the game is represented by the Level class.\n",
    "\n"
   ]
  },
  {
   "cell_type": "code",
   "execution_count": 1,
   "id": "c9bedeba-cc72-4ab6-a4d9-51306cd3f004",
   "metadata": {},
   "outputs": [],
   "source": [
    "import random"
   ]
  },
  {
   "cell_type": "code",
   "execution_count": 2,
   "id": "67b49ca5-e6c8-417d-9fef-dcd84386415d",
   "metadata": {},
   "outputs": [],
   "source": [
    "class Level:\n",
    "    def __init__(self, level):\n",
    "        # TODO.\n",
    "        self.random_flag = 0\n",
    "        self.score = 0\n",
    "        self.level = level\n",
    "\n",
    "    def goal_reached(self):\n",
    "        self.random_flag = random.randint(0,1)\n",
    "        if self.random_flag == 0:\n",
    "            return False\n",
    "        else:\n",
    "            return True\n",
    "    def get_points(self):\n",
    "        if self.level == 1:\n",
    "            return 200\n",
    "        elif self.level == 2:\n",
    "            return 100\n",
    "        elif self.level == 3:\n",
    "            return 500"
   ]
  },
  {
   "cell_type": "markdown",
   "id": "8e86c239-d219-4b77-9042-d1b90a27e014",
   "metadata": {},
   "source": [
    "&nbsp;&nbsp;&nbsp;&nbsp;Play of the game is represented by the Game class. You will write two methods of the Game class. ###"
   ]
  },
  {
   "cell_type": "code",
   "execution_count": null,
   "id": "4a07b721-011e-41a0-9f1c-37320ebefa8a",
   "metadata": {},
   "outputs": [],
   "source": [
    "class Game:\n",
    "    def __init__(self):\n",
    "        self.level_one = Level()\n",
    "        self.level_two = Level()\n",
    "        self.level_three = Level()\n",
    "\n",
    "    def is_bonus(self):\n",
    "        pass\n",
    "\n",
    "    def play(self):\n",
    "        pass\n",
    "\n",
    "    def get_score(self):\n",
    "        # problem (a)\n",
    "        # TODO.\n",
    "\n",
    "    def play_many_times(self, num):\n",
    "        # problem (b)\n",
    "        # TODO.\n",
    "        "
   ]
  },
  {
   "cell_type": "markdown",
   "id": "2d84431e-0d76-449c-a974-f93710b1ee53",
   "metadata": {},
   "source": [
    "### ***&nbsp;&nbsp;&nbsp;&nbsp;Problem (a)*** ###  \n",
    "\n",
    "  \n",
    "&nbsp;&nbsp;&nbsp;&nbsp;Write the ***get_score*** method, which returns the score for the most recently played game. Each game consist of three levels. The score for game is computed using the following helper methods.  \n",
    "\n",
    "* The ***is_bonus*** method of the ***Game*** class returns true if this is a bonus game and return false otherwise.\n",
    "* The ***goal_reached*** method of the ***Level*** class returns true if the goal has been reached on a particular level and returns false otherwise.\n",
    "* The ***get_points*** method of the ***Level*** class returns the number of points recorded on a particular level. Whether ot not recorded points are earned (included in the game score) depends on the rules of the game, which follow.  \n",
    "\n",
    "&nbsp;&nbsp;&nbsp;&nbsp;The score for the game is computed according to the following rules.  \n",
    "\n",
    "* Level one points are earned only if the level one goal is reached. Level two points are earned only if both the level one and level two goals are reached. Level three points are earned only if the goals of all three levels are reached.\n",
    "* The score for the game is the sum of the points earned for levels one, two, and three.\n",
    "* If the game is a bonus game, the score for the game is tripled."
   ]
  },
  {
   "cell_type": "markdown",
   "id": "d703d99a",
   "metadata": {},
   "source": [
    "### ***&nbsp;&nbsp;&nbsp;&nbsp;Problem (b)*** ###  \n",
    "  \n",
    "&nbsp;&nbsp;&nbsp;&nbsp;Write the ***play_many_times*** method, which simulates the play of num games and \n"
   ]
  }
 ],
 "metadata": {
  "kernelspec": {
   "display_name": "Python 3 (ipykernel)",
   "language": "python",
   "name": "python3"
  },
  "language_info": {
   "codemirror_mode": {
    "name": "ipython",
    "version": 3
   },
   "file_extension": ".py",
   "mimetype": "text/x-python",
   "name": "python",
   "nbconvert_exporter": "python",
   "pygments_lexer": "ipython3",
   "version": "3.11.8"
  }
 },
 "nbformat": 4,
 "nbformat_minor": 5
}
